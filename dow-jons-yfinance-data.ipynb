{
 "cells": [
  {
   "cell_type": "code",
   "execution_count": 20,
   "metadata": {},
   "outputs": [
    {
     "name": "stdout",
     "output_type": "stream",
     "text": [
      "Requirement already satisfied: plotly in ./.venv/lib/python3.8/site-packages (6.0.1)\n",
      "Requirement already satisfied: narwhals>=1.15.1 in ./.venv/lib/python3.8/site-packages (from plotly) (1.38.2)\n",
      "Requirement already satisfied: packaging in ./.venv/lib/python3.8/site-packages (from plotly) (24.2)\n"
     ]
    }
   ],
   "source": [
    "#!pip install yfinance\n",
    "#!pip install alpha_vantage\n",
    "#!pip install nbformat\n",
    "#!pip install python-dotenv\n",
    "!pip install plotly"
   ]
  },
  {
   "cell_type": "code",
   "execution_count": 4,
   "metadata": {},
   "outputs": [
    {
     "name": "stdout",
     "output_type": "stream",
     "text": [
      "Collecting python-dotenv\n",
      "  Using cached python_dotenv-1.0.1-py3-none-any.whl.metadata (23 kB)\n",
      "Using cached python_dotenv-1.0.1-py3-none-any.whl (19 kB)\n",
      "Installing collected packages: python-dotenv\n",
      "Successfully installed python-dotenv-1.0.1\n",
      "Note: you may need to restart the kernel to use updated packages.\n"
     ]
    }
   ],
   "source": [
    "\n"
   ]
  },
  {
   "cell_type": "code",
   "execution_count": 5,
   "metadata": {},
   "outputs": [],
   "source": [
    "import os\n",
    "from dotenv import load_dotenv\n",
    "\n",
    "# Load .env file\n",
    "load_dotenv()\n",
    "\n",
    "# Get API key from environment\n",
    "# ALPHA VANTAGE\n",
    "api_key = os.getenv(\"ALPHA_VANTAGE_API_KEY\")\n"
   ]
  },
  {
   "cell_type": "code",
   "execution_count": 18,
   "metadata": {},
   "outputs": [
    {
     "name": "stderr",
     "output_type": "stream",
     "text": [
      "[*********************100%***********************]  1 of 1 completed"
     ]
    },
    {
     "name": "stdout",
     "output_type": "stream",
     "text": [
      "Flattened columns: ['Close_AAPL', 'High_AAPL', 'Low_AAPL', 'Open_AAPL', 'Volume_AAPL']\n"
     ]
    },
    {
     "name": "stderr",
     "output_type": "stream",
     "text": [
      "\n"
     ]
    },
    {
     "data": {
      "application/vnd.plotly.v1+json": {
       "config": {
        "plotlyServerURL": "https://plot.ly"
       },
       "data": [
        {
         "close": {
          "bdata": "AAAAANd7a0AAAAAA179rQAAAAADVymtAAAAA4Hrka0AAAABAChdsQAAAAKBH+WtAAAAAACmAaUAAAABACm9pQAAAACCu32dAAAAAACmMZ0AAAACgR7FmQAAAAEDhsmZAAAAAwPXgZUAAAADgo5hlQAAAAMDMkGdAAAAAQDPbaEAAAADgUYBnQAAAAIAUzmdAAAAAIJWaaEAAAADgo8BoQAAAAOCle2lAAAAAQOFSaUAAAABAVzNpQAAAAAApRGlAAAAA4FG4aEAAAACgmUloQAAAAGBmlmhAAAAAANebaEAAAADgpdNnQAAAAEDhImhAAAAAoEfRaEAAAADAHvVoQAAAAGBmnmlAAAAAIIWLaUAAAADA9dxpQAAAAGBmBmpAAAAAoNgrakAAAAAgXCdqQAAAAOB6BGpAAAAAQOFCakAAAAAghUtqQAAAACCuZ2pAAAAAYI9iakAAAAAgro9qQAAAAOBRkGpAAAAAYI+aakAAAABAXpZpQAAAAKCZqWlAAAAAwB4NaUAAAADgo9hoQAAAAKCZ7WhAAAAAwB7NaEAAAACgmWloQAAAAAAAiGhAAAAA4HrkaEAAAADAzKxoQAAAAOB6xGhAAAAAoEfRaEAAAACA6z1qQAAAAGCPWmpA",
          "dtype": "f8"
         },
         "decreasing": {
          "line": {
           "color": "red"
          }
         },
         "high": {
          "bdata": "AAAA4KOga0AAAABACh9sQAAAAIDC7WtAAAAAIK7va0AAAACAFCZsQAAAAIDrGWxAAAAAQK3vaUAAAAAAXZNpQAAAAAAp/GhAAAAAgD0SaEAAAADgekRoQAAAAOB6/GZAAAAAYLjKZ0AAAABAhFNmQAAAACCuT2hAAAAAIIUTaUAAAAAA9VhoQAAAAKCZGWhAAAAAQDPraEAAAACgR/FoQAAAAIAUnmpAAAAAwB7VaUAAAAAAKXBpQAAAAKBHaWlAAAAAYGYWaUAAAACA67loQAAAAIA90mhAAAAAAKzaaEAAAACgmTloQAAAAKBwLWhAAAAAoJkxaUAAAAAAABBpQAAAAAAAAGpAAAAAAAC4aUAAAADA9eBpQAAAAICOGmpAAAAAwB4takAAAACAwi1qQAAAAAAAcGpAAAAAYP5vakAAAAAgrodqQAAAAEC9fmpAAAAAIIVrakAAAACgR7FqQAAAAEAKx2pAAAAAoJnRakAAAAAgrt9pQAAAAGCPumlAAAAAgBR+aUAAAADAHiVpQAAAAKDEFGlAAAAAoHAFaUAAAACAFO5oQAAAAGAJr2hAAAAAAJgBaUAAAAAgBPZoQAAAAOBGEWlAAAAAgMLtaEAAAAAgh2hqQAAAAMDMZGpA",
          "dtype": "f8"
         },
         "increasing": {
          "line": {
           "color": "green"
          }
         },
         "low": {
          "bdata": "AAAAIK4Ha0AAAAAAvGdrQAAAAMDMXGtAAAAAwMyka0AAAACgmaFrQAAAAKCQ22tAAAAA4KNQaUAAAAAAAChpQAAAAMDM3GdAAAAAQAprZ0AAAAAA19NlQAAAAKD2SGZAAAAAAADgZUAAAAAguSZlQAAAAOB6fGVAAAAAANf7ZkAAAAAAAOBmQAAAAAAAQGdAAAAAgOtBZ0AAAACANoFoQAAAAOAvJWlAAAAAgD1KaUAAAACAPfpoQAAAAIDCKWlAAAAA4KOAaEAAAAAA1wtoQAAAAKBwTWhAAAAAgD16aEAAAABg9blnQAAAAGBmxmdAAAAAAACAaEAAAAAAAMBoQAAAAGCRWWlAAAAAIIVzaUAAAACAFF5pQAAAAKCZ0WlAAAAAYGbGaUAAAAAA1+tpQAAAAGC47mlAAAAAYI8CakAAAAAA1wtqQAAAAEAKR2pAAAAAwHTVaUAAAACgmUFqQAAAAMDMHGpAAAAAgBSCakAAAABguEZpQAAAAMAedWlAAAAAYLjGaEAAAABgodBoQAAAAOCjoGhAAAAAACnMaEAAAAAAAChoQAAAAKCZKWhAAAAAQL9VaEAAAACAP6VoQAAAAMAesWhAAAAAwB69aEAAAAAAANhpQAAAAKBwPWpA",
          "dtype": "f8"
         },
         "open": {
          "bdata": "AAAAQAona0AAAABAM3trQAAAAIDCeWtAAAAAoJnJa0AAAACAFKZrQAAAAEAKF2xAAAAA4KOwaUAAAAAgrn9pQAAAAKCZPWhAAAAAIFzfZ0AAAAAgridmQAAAAIDCsWZAAAAAIFxXZ0AAAADgo+BlQAAAAGC6hWVAAAAA4FGQZ0AAAACgR6VnQAAAAEAKf2dAAAAAgMJFZ0AAAACgR5toQAAAAIAUbmpAAAAA4FF8aUAAAAAgXDtpQAAAAGC4MmlAAAAAIIXLaEAAAADgUbhoQAAAAMDMpGhAAAAAYLiWaEAAAADgeihoQAAAAEDh0mdAAAAAgD2CaEAAAADAhNBoQAAAAAAAwGlAAAAAAACgaUAAAADgUZxpQAAAAKBw3WlAAAAAgMLNaUAAAADgeixqQAAAAIDrQWpAAAAA4FEEakAAAAAALRZqQAAAAADXS2pAAAAAoJkpakAAAACAPWJqQAAAAOBRIGpAAAAA4FGQakAAAABA4cJpQAAAAGBmlmlAAAAAAABkaUAAAADAHg1pQAAAAAAAxGhAAAAAYGbuaEAAAACAPeZoQAAAAIA9amhAAAAAIK63aEAAAADgeuRoQAAAAAAp4GhAAAAA4KPEaEAAAABACl9qQAAAAIAUPmpA",
          "dtype": "f8"
         },
         "type": "candlestick",
         "x": [
          "2025-03-31T13:30:00+00:00",
          "2025-03-31T17:30:00+00:00",
          "2025-04-01T13:30:00+00:00",
          "2025-04-01T17:30:00+00:00",
          "2025-04-02T13:30:00+00:00",
          "2025-04-02T17:30:00+00:00",
          "2025-04-03T13:30:00+00:00",
          "2025-04-03T17:30:00+00:00",
          "2025-04-04T13:30:00+00:00",
          "2025-04-04T17:30:00+00:00",
          "2025-04-07T13:30:00+00:00",
          "2025-04-07T17:30:00+00:00",
          "2025-04-08T13:30:00+00:00",
          "2025-04-08T17:30:00+00:00",
          "2025-04-09T13:30:00+00:00",
          "2025-04-09T17:30:00+00:00",
          "2025-04-10T13:30:00+00:00",
          "2025-04-10T17:30:00+00:00",
          "2025-04-11T13:30:00+00:00",
          "2025-04-11T17:30:00+00:00",
          "2025-04-14T13:30:00+00:00",
          "2025-04-14T17:30:00+00:00",
          "2025-04-15T13:30:00+00:00",
          "2025-04-15T17:30:00+00:00",
          "2025-04-16T13:30:00+00:00",
          "2025-04-16T17:30:00+00:00",
          "2025-04-17T13:30:00+00:00",
          "2025-04-17T17:30:00+00:00",
          "2025-04-21T13:30:00+00:00",
          "2025-04-21T17:30:00+00:00",
          "2025-04-22T13:30:00+00:00",
          "2025-04-22T17:30:00+00:00",
          "2025-04-23T13:30:00+00:00",
          "2025-04-23T17:30:00+00:00",
          "2025-04-24T13:30:00+00:00",
          "2025-04-24T17:30:00+00:00",
          "2025-04-25T13:30:00+00:00",
          "2025-04-25T17:30:00+00:00",
          "2025-04-28T13:30:00+00:00",
          "2025-04-28T17:30:00+00:00",
          "2025-04-29T13:30:00+00:00",
          "2025-04-29T17:30:00+00:00",
          "2025-04-30T13:30:00+00:00",
          "2025-04-30T17:30:00+00:00",
          "2025-05-01T13:30:00+00:00",
          "2025-05-01T17:30:00+00:00",
          "2025-05-02T13:30:00+00:00",
          "2025-05-02T17:30:00+00:00",
          "2025-05-05T13:30:00+00:00",
          "2025-05-05T17:30:00+00:00",
          "2025-05-06T13:30:00+00:00",
          "2025-05-06T17:30:00+00:00",
          "2025-05-07T13:30:00+00:00",
          "2025-05-07T17:30:00+00:00",
          "2025-05-08T13:30:00+00:00",
          "2025-05-08T17:30:00+00:00",
          "2025-05-09T13:30:00+00:00",
          "2025-05-09T17:30:00+00:00",
          "2025-05-12T13:30:00+00:00",
          "2025-05-12T17:30:00+00:00"
         ]
        }
       ],
       "layout": {
        "template": {
         "data": {
          "bar": [
           {
            "error_x": {
             "color": "#f2f5fa"
            },
            "error_y": {
             "color": "#f2f5fa"
            },
            "marker": {
             "line": {
              "color": "rgb(17,17,17)",
              "width": 0.5
             },
             "pattern": {
              "fillmode": "overlay",
              "size": 10,
              "solidity": 0.2
             }
            },
            "type": "bar"
           }
          ],
          "barpolar": [
           {
            "marker": {
             "line": {
              "color": "rgb(17,17,17)",
              "width": 0.5
             },
             "pattern": {
              "fillmode": "overlay",
              "size": 10,
              "solidity": 0.2
             }
            },
            "type": "barpolar"
           }
          ],
          "carpet": [
           {
            "aaxis": {
             "endlinecolor": "#A2B1C6",
             "gridcolor": "#506784",
             "linecolor": "#506784",
             "minorgridcolor": "#506784",
             "startlinecolor": "#A2B1C6"
            },
            "baxis": {
             "endlinecolor": "#A2B1C6",
             "gridcolor": "#506784",
             "linecolor": "#506784",
             "minorgridcolor": "#506784",
             "startlinecolor": "#A2B1C6"
            },
            "type": "carpet"
           }
          ],
          "choropleth": [
           {
            "colorbar": {
             "outlinewidth": 0,
             "ticks": ""
            },
            "type": "choropleth"
           }
          ],
          "contour": [
           {
            "colorbar": {
             "outlinewidth": 0,
             "ticks": ""
            },
            "colorscale": [
             [
              0,
              "#0d0887"
             ],
             [
              0.1111111111111111,
              "#46039f"
             ],
             [
              0.2222222222222222,
              "#7201a8"
             ],
             [
              0.3333333333333333,
              "#9c179e"
             ],
             [
              0.4444444444444444,
              "#bd3786"
             ],
             [
              0.5555555555555556,
              "#d8576b"
             ],
             [
              0.6666666666666666,
              "#ed7953"
             ],
             [
              0.7777777777777778,
              "#fb9f3a"
             ],
             [
              0.8888888888888888,
              "#fdca26"
             ],
             [
              1,
              "#f0f921"
             ]
            ],
            "type": "contour"
           }
          ],
          "contourcarpet": [
           {
            "colorbar": {
             "outlinewidth": 0,
             "ticks": ""
            },
            "type": "contourcarpet"
           }
          ],
          "heatmap": [
           {
            "colorbar": {
             "outlinewidth": 0,
             "ticks": ""
            },
            "colorscale": [
             [
              0,
              "#0d0887"
             ],
             [
              0.1111111111111111,
              "#46039f"
             ],
             [
              0.2222222222222222,
              "#7201a8"
             ],
             [
              0.3333333333333333,
              "#9c179e"
             ],
             [
              0.4444444444444444,
              "#bd3786"
             ],
             [
              0.5555555555555556,
              "#d8576b"
             ],
             [
              0.6666666666666666,
              "#ed7953"
             ],
             [
              0.7777777777777778,
              "#fb9f3a"
             ],
             [
              0.8888888888888888,
              "#fdca26"
             ],
             [
              1,
              "#f0f921"
             ]
            ],
            "type": "heatmap"
           }
          ],
          "histogram": [
           {
            "marker": {
             "pattern": {
              "fillmode": "overlay",
              "size": 10,
              "solidity": 0.2
             }
            },
            "type": "histogram"
           }
          ],
          "histogram2d": [
           {
            "colorbar": {
             "outlinewidth": 0,
             "ticks": ""
            },
            "colorscale": [
             [
              0,
              "#0d0887"
             ],
             [
              0.1111111111111111,
              "#46039f"
             ],
             [
              0.2222222222222222,
              "#7201a8"
             ],
             [
              0.3333333333333333,
              "#9c179e"
             ],
             [
              0.4444444444444444,
              "#bd3786"
             ],
             [
              0.5555555555555556,
              "#d8576b"
             ],
             [
              0.6666666666666666,
              "#ed7953"
             ],
             [
              0.7777777777777778,
              "#fb9f3a"
             ],
             [
              0.8888888888888888,
              "#fdca26"
             ],
             [
              1,
              "#f0f921"
             ]
            ],
            "type": "histogram2d"
           }
          ],
          "histogram2dcontour": [
           {
            "colorbar": {
             "outlinewidth": 0,
             "ticks": ""
            },
            "colorscale": [
             [
              0,
              "#0d0887"
             ],
             [
              0.1111111111111111,
              "#46039f"
             ],
             [
              0.2222222222222222,
              "#7201a8"
             ],
             [
              0.3333333333333333,
              "#9c179e"
             ],
             [
              0.4444444444444444,
              "#bd3786"
             ],
             [
              0.5555555555555556,
              "#d8576b"
             ],
             [
              0.6666666666666666,
              "#ed7953"
             ],
             [
              0.7777777777777778,
              "#fb9f3a"
             ],
             [
              0.8888888888888888,
              "#fdca26"
             ],
             [
              1,
              "#f0f921"
             ]
            ],
            "type": "histogram2dcontour"
           }
          ],
          "mesh3d": [
           {
            "colorbar": {
             "outlinewidth": 0,
             "ticks": ""
            },
            "type": "mesh3d"
           }
          ],
          "parcoords": [
           {
            "line": {
             "colorbar": {
              "outlinewidth": 0,
              "ticks": ""
             }
            },
            "type": "parcoords"
           }
          ],
          "pie": [
           {
            "automargin": true,
            "type": "pie"
           }
          ],
          "scatter": [
           {
            "marker": {
             "line": {
              "color": "#283442"
             }
            },
            "type": "scatter"
           }
          ],
          "scatter3d": [
           {
            "line": {
             "colorbar": {
              "outlinewidth": 0,
              "ticks": ""
             }
            },
            "marker": {
             "colorbar": {
              "outlinewidth": 0,
              "ticks": ""
             }
            },
            "type": "scatter3d"
           }
          ],
          "scattercarpet": [
           {
            "marker": {
             "colorbar": {
              "outlinewidth": 0,
              "ticks": ""
             }
            },
            "type": "scattercarpet"
           }
          ],
          "scattergeo": [
           {
            "marker": {
             "colorbar": {
              "outlinewidth": 0,
              "ticks": ""
             }
            },
            "type": "scattergeo"
           }
          ],
          "scattergl": [
           {
            "marker": {
             "line": {
              "color": "#283442"
             }
            },
            "type": "scattergl"
           }
          ],
          "scattermap": [
           {
            "marker": {
             "colorbar": {
              "outlinewidth": 0,
              "ticks": ""
             }
            },
            "type": "scattermap"
           }
          ],
          "scattermapbox": [
           {
            "marker": {
             "colorbar": {
              "outlinewidth": 0,
              "ticks": ""
             }
            },
            "type": "scattermapbox"
           }
          ],
          "scatterpolar": [
           {
            "marker": {
             "colorbar": {
              "outlinewidth": 0,
              "ticks": ""
             }
            },
            "type": "scatterpolar"
           }
          ],
          "scatterpolargl": [
           {
            "marker": {
             "colorbar": {
              "outlinewidth": 0,
              "ticks": ""
             }
            },
            "type": "scatterpolargl"
           }
          ],
          "scatterternary": [
           {
            "marker": {
             "colorbar": {
              "outlinewidth": 0,
              "ticks": ""
             }
            },
            "type": "scatterternary"
           }
          ],
          "surface": [
           {
            "colorbar": {
             "outlinewidth": 0,
             "ticks": ""
            },
            "colorscale": [
             [
              0,
              "#0d0887"
             ],
             [
              0.1111111111111111,
              "#46039f"
             ],
             [
              0.2222222222222222,
              "#7201a8"
             ],
             [
              0.3333333333333333,
              "#9c179e"
             ],
             [
              0.4444444444444444,
              "#bd3786"
             ],
             [
              0.5555555555555556,
              "#d8576b"
             ],
             [
              0.6666666666666666,
              "#ed7953"
             ],
             [
              0.7777777777777778,
              "#fb9f3a"
             ],
             [
              0.8888888888888888,
              "#fdca26"
             ],
             [
              1,
              "#f0f921"
             ]
            ],
            "type": "surface"
           }
          ],
          "table": [
           {
            "cells": {
             "fill": {
              "color": "#506784"
             },
             "line": {
              "color": "rgb(17,17,17)"
             }
            },
            "header": {
             "fill": {
              "color": "#2a3f5f"
             },
             "line": {
              "color": "rgb(17,17,17)"
             }
            },
            "type": "table"
           }
          ]
         },
         "layout": {
          "annotationdefaults": {
           "arrowcolor": "#f2f5fa",
           "arrowhead": 0,
           "arrowwidth": 1
          },
          "autotypenumbers": "strict",
          "coloraxis": {
           "colorbar": {
            "outlinewidth": 0,
            "ticks": ""
           }
          },
          "colorscale": {
           "diverging": [
            [
             0,
             "#8e0152"
            ],
            [
             0.1,
             "#c51b7d"
            ],
            [
             0.2,
             "#de77ae"
            ],
            [
             0.3,
             "#f1b6da"
            ],
            [
             0.4,
             "#fde0ef"
            ],
            [
             0.5,
             "#f7f7f7"
            ],
            [
             0.6,
             "#e6f5d0"
            ],
            [
             0.7,
             "#b8e186"
            ],
            [
             0.8,
             "#7fbc41"
            ],
            [
             0.9,
             "#4d9221"
            ],
            [
             1,
             "#276419"
            ]
           ],
           "sequential": [
            [
             0,
             "#0d0887"
            ],
            [
             0.1111111111111111,
             "#46039f"
            ],
            [
             0.2222222222222222,
             "#7201a8"
            ],
            [
             0.3333333333333333,
             "#9c179e"
            ],
            [
             0.4444444444444444,
             "#bd3786"
            ],
            [
             0.5555555555555556,
             "#d8576b"
            ],
            [
             0.6666666666666666,
             "#ed7953"
            ],
            [
             0.7777777777777778,
             "#fb9f3a"
            ],
            [
             0.8888888888888888,
             "#fdca26"
            ],
            [
             1,
             "#f0f921"
            ]
           ],
           "sequentialminus": [
            [
             0,
             "#0d0887"
            ],
            [
             0.1111111111111111,
             "#46039f"
            ],
            [
             0.2222222222222222,
             "#7201a8"
            ],
            [
             0.3333333333333333,
             "#9c179e"
            ],
            [
             0.4444444444444444,
             "#bd3786"
            ],
            [
             0.5555555555555556,
             "#d8576b"
            ],
            [
             0.6666666666666666,
             "#ed7953"
            ],
            [
             0.7777777777777778,
             "#fb9f3a"
            ],
            [
             0.8888888888888888,
             "#fdca26"
            ],
            [
             1,
             "#f0f921"
            ]
           ]
          },
          "colorway": [
           "#636efa",
           "#EF553B",
           "#00cc96",
           "#ab63fa",
           "#FFA15A",
           "#19d3f3",
           "#FF6692",
           "#B6E880",
           "#FF97FF",
           "#FECB52"
          ],
          "font": {
           "color": "#f2f5fa"
          },
          "geo": {
           "bgcolor": "rgb(17,17,17)",
           "lakecolor": "rgb(17,17,17)",
           "landcolor": "rgb(17,17,17)",
           "showlakes": true,
           "showland": true,
           "subunitcolor": "#506784"
          },
          "hoverlabel": {
           "align": "left"
          },
          "hovermode": "closest",
          "mapbox": {
           "style": "dark"
          },
          "paper_bgcolor": "rgb(17,17,17)",
          "plot_bgcolor": "rgb(17,17,17)",
          "polar": {
           "angularaxis": {
            "gridcolor": "#506784",
            "linecolor": "#506784",
            "ticks": ""
           },
           "bgcolor": "rgb(17,17,17)",
           "radialaxis": {
            "gridcolor": "#506784",
            "linecolor": "#506784",
            "ticks": ""
           }
          },
          "scene": {
           "xaxis": {
            "backgroundcolor": "rgb(17,17,17)",
            "gridcolor": "#506784",
            "gridwidth": 2,
            "linecolor": "#506784",
            "showbackground": true,
            "ticks": "",
            "zerolinecolor": "#C8D4E3"
           },
           "yaxis": {
            "backgroundcolor": "rgb(17,17,17)",
            "gridcolor": "#506784",
            "gridwidth": 2,
            "linecolor": "#506784",
            "showbackground": true,
            "ticks": "",
            "zerolinecolor": "#C8D4E3"
           },
           "zaxis": {
            "backgroundcolor": "rgb(17,17,17)",
            "gridcolor": "#506784",
            "gridwidth": 2,
            "linecolor": "#506784",
            "showbackground": true,
            "ticks": "",
            "zerolinecolor": "#C8D4E3"
           }
          },
          "shapedefaults": {
           "line": {
            "color": "#f2f5fa"
           }
          },
          "sliderdefaults": {
           "bgcolor": "#C8D4E3",
           "bordercolor": "rgb(17,17,17)",
           "borderwidth": 1,
           "tickwidth": 0
          },
          "ternary": {
           "aaxis": {
            "gridcolor": "#506784",
            "linecolor": "#506784",
            "ticks": ""
           },
           "baxis": {
            "gridcolor": "#506784",
            "linecolor": "#506784",
            "ticks": ""
           },
           "bgcolor": "rgb(17,17,17)",
           "caxis": {
            "gridcolor": "#506784",
            "linecolor": "#506784",
            "ticks": ""
           }
          },
          "title": {
           "x": 0.05
          },
          "updatemenudefaults": {
           "bgcolor": "#506784",
           "borderwidth": 0
          },
          "xaxis": {
           "automargin": true,
           "gridcolor": "#283442",
           "linecolor": "#506784",
           "ticks": "",
           "title": {
            "standoff": 15
           },
           "zerolinecolor": "#283442",
           "zerolinewidth": 2
          },
          "yaxis": {
           "automargin": true,
           "gridcolor": "#283442",
           "linecolor": "#506784",
           "ticks": "",
           "title": {
            "standoff": 15
           },
           "zerolinecolor": "#283442",
           "zerolinewidth": 2
          }
         }
        },
        "title": {
         "text": "AAPL - 4 Hour Candlestick Chart"
        },
        "xaxis": {
         "rangeslider": {
          "visible": false
         },
         "title": {
          "text": "Date"
         }
        },
        "yaxis": {
         "title": {
          "text": "Price (USD)"
         }
        }
       }
      }
     },
     "metadata": {},
     "output_type": "display_data"
    }
   ],
   "source": [
    "import yfinance as yf\n",
    "import plotly.graph_objects as go\n",
    "\n",
    "# Step 1: Download 4-hour data\n",
    "data = yf.download(\"AAPL\", interval=\"4h\", period=\"30d\")  # No group_by param, but still MultiIndex\n",
    "data.dropna(inplace=True)\n",
    "\n",
    "# Step 2: Flatten MultiIndex columns\n",
    "data.columns = [f\"{col[0]}_{col[1]}\" for col in data.columns]\n",
    "\n",
    "# Step 3: Check the new column names\n",
    "print(\"Flattened columns:\", data.columns.tolist())  # Should print: ['Close_AAPL', 'High_AAPL', ...]\n",
    "\n",
    "# Step 4: Plot the candlestick chart\n",
    "fig = go.Figure(data=[\n",
    "    go.Candlestick(\n",
    "        x=data.index,\n",
    "        open=data['Open_AAPL'],\n",
    "        high=data['High_AAPL'],\n",
    "        low=data['Low_AAPL'],\n",
    "        close=data['Close_AAPL'],\n",
    "        increasing_line_color='green',\n",
    "        decreasing_line_color='red'\n",
    "    )\n",
    "])\n",
    "\n",
    "fig.update_layout(\n",
    "    title=\"AAPL - 4 Hour Candlestick Chart\",\n",
    "    xaxis_title=\"Date\",\n",
    "    yaxis_title=\"Price (USD)\",\n",
    "    xaxis_rangeslider_visible=False,\n",
    "    template=\"plotly_dark\"\n",
    ")\n",
    "\n",
    "fig.show()\n"
   ]
  },
  {
   "cell_type": "code",
   "execution_count": 20,
   "metadata": {},
   "outputs": [
    {
     "name": "stderr",
     "output_type": "stream",
     "text": [
      "[*********************100%***********************]  1 of 1 completed\n"
     ]
    },
    {
     "data": {
      "application/vnd.plotly.v1+json": {
       "config": {
        "plotlyServerURL": "https://plot.ly"
       },
       "data": [
        {
         "close": {
          "bdata": "AAAAgELA5UAAAADgisHlQAAAAOByyuVAAAAAwBSS5UAAAACggDTlQAAAAMCmOOVAAAAAIKVM5UAAAADgIzXlQAAAAADwHOVAAAAAIB1o5UAAAACg5xblQAAAAKAfw+RAAAAA4NL/5EAAAACAYsrkQAAAAAA35uRAAAAAwPZ25EAAAABgLzvkQAAAAMDdMORAAAAAQLLt40AAAAAgBkLkQAAAACA0buRAAAAA4KlN5EAAAAAglH3kQAAAAEAqfORAAAAAQCuA5EAAAABA6srkQAAAAABwy+RAAAAAQNm65EAAAABgdqfkQAAAAMD8TeRAAAAAYDiC5EAAAADAvoDkQAAAAEAqnuRAAAAAwD3M40AAAACAW7XiQAAAAECzieJAAAAA4LJh4kAAAABgDtTjQAAAACA1VeNAAAAAwJai40AAAABAmcnjQAAAAMAetuNAAAAAgKxe40AAAABgxxzjQAAAACBNo+JAAAAAYF8i40AAAABA0lbjQAAAAMCsk+NAAAAAADCW40AAAADgcqTjQAAAAODzyeNAAAAAgKvb40AAAADAHubjQAAAAMCtLORAAAAAgFog5EAAAAAAoO/jQAAAAAA/E+RAAAAAYA4z5EAAAAAgLCTkQAAAAEBDteRA",
          "dtype": "f8"
         },
         "decreasing": {
          "line": {
           "color": "red"
          }
         },
         "high": {
          "bdata": "AAAAoCHc5UAAAACgQMflQAAAACCGy+VAAAAAgCPC5UAAAABg93blQAAAAMBkVuVAAAAAoPde5UAAAAAAUGvlQAAAACCGbeVAAAAAoDFs5UAAAAAAOYDlQAAAAACACeVAAAAAgP0P5UAAAACgT/vkQAAAAMBV8uRAAAAAgKvF5EAAAACgiHHkQAAAAIArX+RAAAAA4AMy5EAAAACAA0fkQAAAAECjg+RAAAAAAGhn5EAAAAAgTZjkQAAAAEBJoeRAAAAAwGyD5EAAAABA29HkQAAAAIAT2eRAAAAAgLro5EAAAADgesPkQAAAAMBEouRAAAAAIGyU5EAAAAAglZPkQAAAAKDIseRAAAAA4LMa5EAAAADAPJTjQAAAAKDgJONAAAAAQFNA40AAAABgVunjQAAAAMCdh+NAAAAAoIi640AAAABASenjQAAAAMDl6uNAAAAAoBm840AAAACAMmjjQAAAAEBB/+JAAAAAAAEt40AAAACAA7fjQAAAACC9m+NAAAAA4CmZ40AAAADAxbvjQAAAAKDP1uNAAAAAICXp40AAAACgcBHkQAAAACBGNeRAAAAAIL085EAAAACAihnkQAAAACBdJuRAAAAAAKdl5EAAAADADUXkQAAAAKBBtuRA",
          "dtype": "f8"
         },
         "increasing": {
          "line": {
           "color": "green"
          }
         },
         "low": {
          "bdata": "AAAAwF665UAAAABA6qPlQAAAAMAUo+VAAAAAIMV15UAAAACAqirlQAAAAID1KeVAAAAAYF8i5UAAAADA3SblQAAAAAARG+VAAAAA4JsL5UAAAADg6fTkQAAAAAB4reRAAAAAYFe25EAAAADgsbHkQAAAAODzl+RAAAAAgJ1R5EAAAADg6xrkQAAAAKBHBuRAAAAAoLja40AAAABAMfzjQAAAAACYOORAAAAAwO045EAAAAAgplHkQAAAAIDzW+RAAAAAgDs75EAAAACAhJjkQAAAAIA6ueRAAAAAgNWq5EAAAAAgxpPkQAAAAABAR+RAAAAAIIQX5EAAAADA/EXkQAAAAGC2U+RAAAAAgCPI40AAAADgG6/iQAAAAAB54OFAAAAAgPsd4kAAAAAgdjPiQAAAAGB2w+JAAAAAwOYq40AAAACg4JvjQAAAACBes+NAAAAAAFg840AAAADgyQTjQAAAACDVeOJAAAAAYIfO4kAAAACA5EfjQAAAAOB7OeNAAAAAwNVk40AAAABAo3fjQAAAAMDFo+NAAAAAIDRo40AAAAAgNODjQAAAAIANAORAAAAAIO4M5EAAAAAg7ebjQAAAAECp7+NAAAAAYPgZ5EAAAABg1xfkQAAAAKBhdeRA",
          "dtype": "f8"
         },
         "open": {
          "bdata": "AAAAoB/W5UAAAAAg/cTlQAAAAODDt+VAAAAAgCPC5UAAAAAghGXlQAAAAOCjPOVAAAAAoLc+5UAAAACAbU7lQAAAACCOP+VAAAAA4Hof5UAAAACgj2/lQAAAAKAJBOVAAAAA4MvC5EAAAACgD+zkQAAAAEDiwORAAAAAwHTB5EAAAABgvm3kQAAAAAAwTeRAAAAAoAEo5EAAAABAMgzkQAAAAACHPuRAAAAAIJ1l5EAAAAAgplHkQAAAAGBoaORAAAAAwGxk5EAAAACAhJjkQAAAAEBx0eRAAAAAQPvT5EAAAADAHrjkQAAAAEC6oORAAAAAoNA05EAAAAAA+HLkQAAAAIACYeRAAAAAoFAD5EAAAADAPJTjQAAAAMD0fuJAAAAAQGP14kAAAAAgfUHiQAAAAMCdh+NAAAAAgK1I40AAAADARMzjQAAAAED6yeNAAAAAoG+e40AAAACAMmjjQAAAAEBB/+JAAAAAYIfO4kAAAABg4HDjQAAAAKBhTeNAAAAAYLeN40AAAACgd53jQAAAAGA/peNAAAAAIE2s40AAAABAwfrjQAAAAIANAORAAAAAIKwa5EAAAAAgBgXkQAAAAICC/+NAAAAAQBIs5EAAAABgrzfkQAAAAEBjdeRA",
          "dtype": "f8"
         },
         "type": "candlestick",
         "x": [
          "2025-02-14T00:00:00.000000000",
          "2025-02-18T00:00:00.000000000",
          "2025-02-19T00:00:00.000000000",
          "2025-02-20T00:00:00.000000000",
          "2025-02-21T00:00:00.000000000",
          "2025-02-24T00:00:00.000000000",
          "2025-02-25T00:00:00.000000000",
          "2025-02-26T00:00:00.000000000",
          "2025-02-27T00:00:00.000000000",
          "2025-02-28T00:00:00.000000000",
          "2025-03-03T00:00:00.000000000",
          "2025-03-04T00:00:00.000000000",
          "2025-03-05T00:00:00.000000000",
          "2025-03-06T00:00:00.000000000",
          "2025-03-07T00:00:00.000000000",
          "2025-03-10T00:00:00.000000000",
          "2025-03-11T00:00:00.000000000",
          "2025-03-12T00:00:00.000000000",
          "2025-03-13T00:00:00.000000000",
          "2025-03-14T00:00:00.000000000",
          "2025-03-17T00:00:00.000000000",
          "2025-03-18T00:00:00.000000000",
          "2025-03-19T00:00:00.000000000",
          "2025-03-20T00:00:00.000000000",
          "2025-03-21T00:00:00.000000000",
          "2025-03-24T00:00:00.000000000",
          "2025-03-25T00:00:00.000000000",
          "2025-03-26T00:00:00.000000000",
          "2025-03-27T00:00:00.000000000",
          "2025-03-28T00:00:00.000000000",
          "2025-03-31T00:00:00.000000000",
          "2025-04-01T00:00:00.000000000",
          "2025-04-02T00:00:00.000000000",
          "2025-04-03T00:00:00.000000000",
          "2025-04-04T00:00:00.000000000",
          "2025-04-07T00:00:00.000000000",
          "2025-04-08T00:00:00.000000000",
          "2025-04-09T00:00:00.000000000",
          "2025-04-10T00:00:00.000000000",
          "2025-04-11T00:00:00.000000000",
          "2025-04-14T00:00:00.000000000",
          "2025-04-15T00:00:00.000000000",
          "2025-04-16T00:00:00.000000000",
          "2025-04-17T00:00:00.000000000",
          "2025-04-21T00:00:00.000000000",
          "2025-04-22T00:00:00.000000000",
          "2025-04-23T00:00:00.000000000",
          "2025-04-24T00:00:00.000000000",
          "2025-04-25T00:00:00.000000000",
          "2025-04-28T00:00:00.000000000",
          "2025-04-29T00:00:00.000000000",
          "2025-04-30T00:00:00.000000000",
          "2025-05-01T00:00:00.000000000",
          "2025-05-02T00:00:00.000000000",
          "2025-05-05T00:00:00.000000000",
          "2025-05-06T00:00:00.000000000",
          "2025-05-07T00:00:00.000000000",
          "2025-05-08T00:00:00.000000000",
          "2025-05-09T00:00:00.000000000",
          "2025-05-12T00:00:00.000000000"
         ]
        }
       ],
       "layout": {
        "template": {
         "data": {
          "bar": [
           {
            "error_x": {
             "color": "#f2f5fa"
            },
            "error_y": {
             "color": "#f2f5fa"
            },
            "marker": {
             "line": {
              "color": "rgb(17,17,17)",
              "width": 0.5
             },
             "pattern": {
              "fillmode": "overlay",
              "size": 10,
              "solidity": 0.2
             }
            },
            "type": "bar"
           }
          ],
          "barpolar": [
           {
            "marker": {
             "line": {
              "color": "rgb(17,17,17)",
              "width": 0.5
             },
             "pattern": {
              "fillmode": "overlay",
              "size": 10,
              "solidity": 0.2
             }
            },
            "type": "barpolar"
           }
          ],
          "carpet": [
           {
            "aaxis": {
             "endlinecolor": "#A2B1C6",
             "gridcolor": "#506784",
             "linecolor": "#506784",
             "minorgridcolor": "#506784",
             "startlinecolor": "#A2B1C6"
            },
            "baxis": {
             "endlinecolor": "#A2B1C6",
             "gridcolor": "#506784",
             "linecolor": "#506784",
             "minorgridcolor": "#506784",
             "startlinecolor": "#A2B1C6"
            },
            "type": "carpet"
           }
          ],
          "choropleth": [
           {
            "colorbar": {
             "outlinewidth": 0,
             "ticks": ""
            },
            "type": "choropleth"
           }
          ],
          "contour": [
           {
            "colorbar": {
             "outlinewidth": 0,
             "ticks": ""
            },
            "colorscale": [
             [
              0,
              "#0d0887"
             ],
             [
              0.1111111111111111,
              "#46039f"
             ],
             [
              0.2222222222222222,
              "#7201a8"
             ],
             [
              0.3333333333333333,
              "#9c179e"
             ],
             [
              0.4444444444444444,
              "#bd3786"
             ],
             [
              0.5555555555555556,
              "#d8576b"
             ],
             [
              0.6666666666666666,
              "#ed7953"
             ],
             [
              0.7777777777777778,
              "#fb9f3a"
             ],
             [
              0.8888888888888888,
              "#fdca26"
             ],
             [
              1,
              "#f0f921"
             ]
            ],
            "type": "contour"
           }
          ],
          "contourcarpet": [
           {
            "colorbar": {
             "outlinewidth": 0,
             "ticks": ""
            },
            "type": "contourcarpet"
           }
          ],
          "heatmap": [
           {
            "colorbar": {
             "outlinewidth": 0,
             "ticks": ""
            },
            "colorscale": [
             [
              0,
              "#0d0887"
             ],
             [
              0.1111111111111111,
              "#46039f"
             ],
             [
              0.2222222222222222,
              "#7201a8"
             ],
             [
              0.3333333333333333,
              "#9c179e"
             ],
             [
              0.4444444444444444,
              "#bd3786"
             ],
             [
              0.5555555555555556,
              "#d8576b"
             ],
             [
              0.6666666666666666,
              "#ed7953"
             ],
             [
              0.7777777777777778,
              "#fb9f3a"
             ],
             [
              0.8888888888888888,
              "#fdca26"
             ],
             [
              1,
              "#f0f921"
             ]
            ],
            "type": "heatmap"
           }
          ],
          "histogram": [
           {
            "marker": {
             "pattern": {
              "fillmode": "overlay",
              "size": 10,
              "solidity": 0.2
             }
            },
            "type": "histogram"
           }
          ],
          "histogram2d": [
           {
            "colorbar": {
             "outlinewidth": 0,
             "ticks": ""
            },
            "colorscale": [
             [
              0,
              "#0d0887"
             ],
             [
              0.1111111111111111,
              "#46039f"
             ],
             [
              0.2222222222222222,
              "#7201a8"
             ],
             [
              0.3333333333333333,
              "#9c179e"
             ],
             [
              0.4444444444444444,
              "#bd3786"
             ],
             [
              0.5555555555555556,
              "#d8576b"
             ],
             [
              0.6666666666666666,
              "#ed7953"
             ],
             [
              0.7777777777777778,
              "#fb9f3a"
             ],
             [
              0.8888888888888888,
              "#fdca26"
             ],
             [
              1,
              "#f0f921"
             ]
            ],
            "type": "histogram2d"
           }
          ],
          "histogram2dcontour": [
           {
            "colorbar": {
             "outlinewidth": 0,
             "ticks": ""
            },
            "colorscale": [
             [
              0,
              "#0d0887"
             ],
             [
              0.1111111111111111,
              "#46039f"
             ],
             [
              0.2222222222222222,
              "#7201a8"
             ],
             [
              0.3333333333333333,
              "#9c179e"
             ],
             [
              0.4444444444444444,
              "#bd3786"
             ],
             [
              0.5555555555555556,
              "#d8576b"
             ],
             [
              0.6666666666666666,
              "#ed7953"
             ],
             [
              0.7777777777777778,
              "#fb9f3a"
             ],
             [
              0.8888888888888888,
              "#fdca26"
             ],
             [
              1,
              "#f0f921"
             ]
            ],
            "type": "histogram2dcontour"
           }
          ],
          "mesh3d": [
           {
            "colorbar": {
             "outlinewidth": 0,
             "ticks": ""
            },
            "type": "mesh3d"
           }
          ],
          "parcoords": [
           {
            "line": {
             "colorbar": {
              "outlinewidth": 0,
              "ticks": ""
             }
            },
            "type": "parcoords"
           }
          ],
          "pie": [
           {
            "automargin": true,
            "type": "pie"
           }
          ],
          "scatter": [
           {
            "marker": {
             "line": {
              "color": "#283442"
             }
            },
            "type": "scatter"
           }
          ],
          "scatter3d": [
           {
            "line": {
             "colorbar": {
              "outlinewidth": 0,
              "ticks": ""
             }
            },
            "marker": {
             "colorbar": {
              "outlinewidth": 0,
              "ticks": ""
             }
            },
            "type": "scatter3d"
           }
          ],
          "scattercarpet": [
           {
            "marker": {
             "colorbar": {
              "outlinewidth": 0,
              "ticks": ""
             }
            },
            "type": "scattercarpet"
           }
          ],
          "scattergeo": [
           {
            "marker": {
             "colorbar": {
              "outlinewidth": 0,
              "ticks": ""
             }
            },
            "type": "scattergeo"
           }
          ],
          "scattergl": [
           {
            "marker": {
             "line": {
              "color": "#283442"
             }
            },
            "type": "scattergl"
           }
          ],
          "scattermap": [
           {
            "marker": {
             "colorbar": {
              "outlinewidth": 0,
              "ticks": ""
             }
            },
            "type": "scattermap"
           }
          ],
          "scattermapbox": [
           {
            "marker": {
             "colorbar": {
              "outlinewidth": 0,
              "ticks": ""
             }
            },
            "type": "scattermapbox"
           }
          ],
          "scatterpolar": [
           {
            "marker": {
             "colorbar": {
              "outlinewidth": 0,
              "ticks": ""
             }
            },
            "type": "scatterpolar"
           }
          ],
          "scatterpolargl": [
           {
            "marker": {
             "colorbar": {
              "outlinewidth": 0,
              "ticks": ""
             }
            },
            "type": "scatterpolargl"
           }
          ],
          "scatterternary": [
           {
            "marker": {
             "colorbar": {
              "outlinewidth": 0,
              "ticks": ""
             }
            },
            "type": "scatterternary"
           }
          ],
          "surface": [
           {
            "colorbar": {
             "outlinewidth": 0,
             "ticks": ""
            },
            "colorscale": [
             [
              0,
              "#0d0887"
             ],
             [
              0.1111111111111111,
              "#46039f"
             ],
             [
              0.2222222222222222,
              "#7201a8"
             ],
             [
              0.3333333333333333,
              "#9c179e"
             ],
             [
              0.4444444444444444,
              "#bd3786"
             ],
             [
              0.5555555555555556,
              "#d8576b"
             ],
             [
              0.6666666666666666,
              "#ed7953"
             ],
             [
              0.7777777777777778,
              "#fb9f3a"
             ],
             [
              0.8888888888888888,
              "#fdca26"
             ],
             [
              1,
              "#f0f921"
             ]
            ],
            "type": "surface"
           }
          ],
          "table": [
           {
            "cells": {
             "fill": {
              "color": "#506784"
             },
             "line": {
              "color": "rgb(17,17,17)"
             }
            },
            "header": {
             "fill": {
              "color": "#2a3f5f"
             },
             "line": {
              "color": "rgb(17,17,17)"
             }
            },
            "type": "table"
           }
          ]
         },
         "layout": {
          "annotationdefaults": {
           "arrowcolor": "#f2f5fa",
           "arrowhead": 0,
           "arrowwidth": 1
          },
          "autotypenumbers": "strict",
          "coloraxis": {
           "colorbar": {
            "outlinewidth": 0,
            "ticks": ""
           }
          },
          "colorscale": {
           "diverging": [
            [
             0,
             "#8e0152"
            ],
            [
             0.1,
             "#c51b7d"
            ],
            [
             0.2,
             "#de77ae"
            ],
            [
             0.3,
             "#f1b6da"
            ],
            [
             0.4,
             "#fde0ef"
            ],
            [
             0.5,
             "#f7f7f7"
            ],
            [
             0.6,
             "#e6f5d0"
            ],
            [
             0.7,
             "#b8e186"
            ],
            [
             0.8,
             "#7fbc41"
            ],
            [
             0.9,
             "#4d9221"
            ],
            [
             1,
             "#276419"
            ]
           ],
           "sequential": [
            [
             0,
             "#0d0887"
            ],
            [
             0.1111111111111111,
             "#46039f"
            ],
            [
             0.2222222222222222,
             "#7201a8"
            ],
            [
             0.3333333333333333,
             "#9c179e"
            ],
            [
             0.4444444444444444,
             "#bd3786"
            ],
            [
             0.5555555555555556,
             "#d8576b"
            ],
            [
             0.6666666666666666,
             "#ed7953"
            ],
            [
             0.7777777777777778,
             "#fb9f3a"
            ],
            [
             0.8888888888888888,
             "#fdca26"
            ],
            [
             1,
             "#f0f921"
            ]
           ],
           "sequentialminus": [
            [
             0,
             "#0d0887"
            ],
            [
             0.1111111111111111,
             "#46039f"
            ],
            [
             0.2222222222222222,
             "#7201a8"
            ],
            [
             0.3333333333333333,
             "#9c179e"
            ],
            [
             0.4444444444444444,
             "#bd3786"
            ],
            [
             0.5555555555555556,
             "#d8576b"
            ],
            [
             0.6666666666666666,
             "#ed7953"
            ],
            [
             0.7777777777777778,
             "#fb9f3a"
            ],
            [
             0.8888888888888888,
             "#fdca26"
            ],
            [
             1,
             "#f0f921"
            ]
           ]
          },
          "colorway": [
           "#636efa",
           "#EF553B",
           "#00cc96",
           "#ab63fa",
           "#FFA15A",
           "#19d3f3",
           "#FF6692",
           "#B6E880",
           "#FF97FF",
           "#FECB52"
          ],
          "font": {
           "color": "#f2f5fa"
          },
          "geo": {
           "bgcolor": "rgb(17,17,17)",
           "lakecolor": "rgb(17,17,17)",
           "landcolor": "rgb(17,17,17)",
           "showlakes": true,
           "showland": true,
           "subunitcolor": "#506784"
          },
          "hoverlabel": {
           "align": "left"
          },
          "hovermode": "closest",
          "mapbox": {
           "style": "dark"
          },
          "paper_bgcolor": "rgb(17,17,17)",
          "plot_bgcolor": "rgb(17,17,17)",
          "polar": {
           "angularaxis": {
            "gridcolor": "#506784",
            "linecolor": "#506784",
            "ticks": ""
           },
           "bgcolor": "rgb(17,17,17)",
           "radialaxis": {
            "gridcolor": "#506784",
            "linecolor": "#506784",
            "ticks": ""
           }
          },
          "scene": {
           "xaxis": {
            "backgroundcolor": "rgb(17,17,17)",
            "gridcolor": "#506784",
            "gridwidth": 2,
            "linecolor": "#506784",
            "showbackground": true,
            "ticks": "",
            "zerolinecolor": "#C8D4E3"
           },
           "yaxis": {
            "backgroundcolor": "rgb(17,17,17)",
            "gridcolor": "#506784",
            "gridwidth": 2,
            "linecolor": "#506784",
            "showbackground": true,
            "ticks": "",
            "zerolinecolor": "#C8D4E3"
           },
           "zaxis": {
            "backgroundcolor": "rgb(17,17,17)",
            "gridcolor": "#506784",
            "gridwidth": 2,
            "linecolor": "#506784",
            "showbackground": true,
            "ticks": "",
            "zerolinecolor": "#C8D4E3"
           }
          },
          "shapedefaults": {
           "line": {
            "color": "#f2f5fa"
           }
          },
          "sliderdefaults": {
           "bgcolor": "#C8D4E3",
           "bordercolor": "rgb(17,17,17)",
           "borderwidth": 1,
           "tickwidth": 0
          },
          "ternary": {
           "aaxis": {
            "gridcolor": "#506784",
            "linecolor": "#506784",
            "ticks": ""
           },
           "baxis": {
            "gridcolor": "#506784",
            "linecolor": "#506784",
            "ticks": ""
           },
           "bgcolor": "rgb(17,17,17)",
           "caxis": {
            "gridcolor": "#506784",
            "linecolor": "#506784",
            "ticks": ""
           }
          },
          "title": {
           "x": 0.05
          },
          "updatemenudefaults": {
           "bgcolor": "#506784",
           "borderwidth": 0
          },
          "xaxis": {
           "automargin": true,
           "gridcolor": "#283442",
           "linecolor": "#506784",
           "ticks": "",
           "title": {
            "standoff": 15
           },
           "zerolinecolor": "#283442",
           "zerolinewidth": 2
          },
          "yaxis": {
           "automargin": true,
           "gridcolor": "#283442",
           "linecolor": "#506784",
           "ticks": "",
           "title": {
            "standoff": 15
           },
           "zerolinecolor": "#283442",
           "zerolinewidth": 2
          }
         }
        },
        "title": {
         "text": "Dow Jones Industrial Average - Daily Candlestick Chart"
        },
        "xaxis": {
         "rangeslider": {
          "visible": false
         },
         "title": {
          "text": "Date"
         }
        },
        "yaxis": {
         "title": {
          "text": "Price (USD)"
         }
        }
       }
      }
     },
     "metadata": {},
     "output_type": "display_data"
    }
   ],
   "source": [
    "import yfinance as yf\n",
    "import pandas as pd\n",
    "import plotly.graph_objects as go\n",
    "\n",
    "# Step 1: Download daily data (4h is NOT supported for indices like ^DJI)\n",
    "data = yf.download(\"^DJI\", interval=\"1d\", period=\"60d\")\n",
    "data.dropna(inplace=True)\n",
    "\n",
    "# Step 2: Flatten columns if needed (only happens with MultiIndex)\n",
    "if isinstance(data.columns, pd.MultiIndex):\n",
    "    data.columns = [f\"{col[0]}_{col[1]}\" for col in data.columns]\n",
    "else:\n",
    "    # Rename just in case of awkward spaces or mismatched names\n",
    "    data.columns = [col.replace(' ', '_') for col in data.columns]\n",
    "\n",
    "# Step 3: Detect correct column names\n",
    "open_col = next(col for col in data.columns if 'Open' in col and 'Adj' not in col)\n",
    "high_col = next(col for col in data.columns if 'High' in col)\n",
    "low_col  = next(col for col in data.columns if 'Low' in col)\n",
    "close_col = next(col for col in data.columns if 'Close' in col and 'Adj' not in col)\n",
    "\n",
    "# Step 4: Plot candlestick chart\n",
    "fig = go.Figure(data=[\n",
    "    go.Candlestick(\n",
    "        x=data.index,\n",
    "        open=data[open_col],\n",
    "        high=data[high_col],\n",
    "        low=data[low_col],\n",
    "        close=data[close_col],\n",
    "        increasing_line_color='green',\n",
    "        decreasing_line_color='red'\n",
    "    )\n",
    "])\n",
    "\n",
    "fig.update_layout(\n",
    "    title=\"Dow Jones Industrial Average - Daily Candlestick Chart\",\n",
    "    xaxis_title=\"Date\",\n",
    "    yaxis_title=\"Price (USD)\",\n",
    "    xaxis_rangeslider_visible=False,\n",
    "    template=\"plotly_dark\"\n",
    ")\n",
    "\n",
    "fig.show()\n"
   ]
  },
  {
   "cell_type": "code",
   "execution_count": 22,
   "metadata": {},
   "outputs": [
    {
     "name": "stderr",
     "output_type": "stream",
     "text": [
      "[*********************100%***********************]  1 of 1 completed\n",
      "\n",
      "1 Failed download:\n",
      "['DIA']: YFPricesMissingError('possibly delisted; no price data found  (period=3y) (Yahoo error = \"4h data not available for startTime=1652515028 and endTime=1747123028. The requested range must be within the last 730 days.\")')\n"
     ]
    }
   ],
   "source": [
    "# Download 4h data for Dow Jones ETF\n",
    "import yfinance as yf\n",
    "\n",
    "data = yf.download('DIA', interval='4h', period='3y')  # or '3y' if available\n"
   ]
  },
  {
   "cell_type": "code",
   "execution_count": null,
   "metadata": {},
   "outputs": [],
   "source": []
  }
 ],
 "metadata": {
  "kernelspec": {
   "display_name": ".venv",
   "language": "python",
   "name": "python3"
  },
  "language_info": {
   "codemirror_mode": {
    "name": "ipython",
    "version": 3
   },
   "file_extension": ".py",
   "mimetype": "text/x-python",
   "name": "python",
   "nbconvert_exporter": "python",
   "pygments_lexer": "ipython3",
   "version": "3.8.9"
  }
 },
 "nbformat": 4,
 "nbformat_minor": 2
}
